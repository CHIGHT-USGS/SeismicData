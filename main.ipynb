{
 "cells": [
  {
   "cell_type": "markdown",
   "id": "d97f1e63-f7e3-4211-943a-6e6236f554c2",
   "metadata": {},
   "source": [
    "## Exercise D Developer Test\n",
    "1. Please import mseed file\n",
    "2. Build a database file with proper normal form and constraints\\\n",
    "3. Import data into the newly built database\n",
    "3. Build A visualization for the data"
   ]
  },
  {
   "cell_type": "code",
   "execution_count": null,
   "id": "338bed7b-04cf-4a81-85d6-215c6ebbdc48",
   "metadata": {},
   "outputs": [],
   "source": []
  }
 ],
 "metadata": {
  "kernelspec": {
   "display_name": "Python 3 (ipykernel)",
   "language": "python",
   "name": "python3"
  },
  "language_info": {
   "codemirror_mode": {
    "name": "ipython",
    "version": 3
   },
   "file_extension": ".py",
   "mimetype": "text/x-python",
   "name": "python",
   "nbconvert_exporter": "python",
   "pygments_lexer": "ipython3",
   "version": "3.11.7"
  }
 },
 "nbformat": 4,
 "nbformat_minor": 5
}
