{
 "cells": [
  {
   "cell_type": "markdown",
   "source": [
    "## Exercise D Developer Test\n",
    "1. Please import mseed file\n",
    "2. Build a database file with proper normal form and constraints\\\n",
    "3. Import data into the newly built database\n",
    "3. Build A visualization for the data"
   ],
   "metadata": {
    "collapsed": false
   },
   "id": "f2d401238263c306"
  },
  {
   "cell_type": "code",
   "outputs": [],
   "source": [],
   "metadata": {
    "collapsed": false
   },
   "id": "a620957a6a334144"
  }
 ],
 "metadata": {
  "kernelspec": {
   "display_name": "Python 3",
   "language": "python",
   "name": "python3"
  },
  "language_info": {
   "codemirror_mode": {
    "name": "ipython",
    "version": 2
   },
   "file_extension": ".py",
   "mimetype": "text/x-python",
   "name": "python",
   "nbconvert_exporter": "python",
   "pygments_lexer": "ipython2",
   "version": "2.7.6"
  }
 },
 "nbformat": 4,
 "nbformat_minor": 5
}
